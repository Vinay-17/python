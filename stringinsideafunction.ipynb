{
  "nbformat": 4,
  "nbformat_minor": 0,
  "metadata": {
    "colab": {
      "provenance": [],
      "toc_visible": true,
      "authorship_tag": "ABX9TyN7DJMvcqK1tnbRWiCcEGtk",
      "include_colab_link": true
    },
    "kernelspec": {
      "name": "python3",
      "display_name": "Python 3"
    },
    "language_info": {
      "name": "python"
    }
  },
  "cells": [
    {
      "cell_type": "markdown",
      "metadata": {
        "id": "view-in-github",
        "colab_type": "text"
      },
      "source": [
        "<a href=\"https://colab.research.google.com/github/Vinay-17/python/blob/main/stringinsideafunction.ipynb\" target=\"_parent\"><img src=\"https://colab.research.google.com/assets/colab-badge.svg\" alt=\"Open In Colab\"/></a>"
      ]
    },
    {
      "cell_type": "code",
      "execution_count": null,
      "metadata": {
        "id": "700zxP6M0ccD"
      },
      "outputs": [],
      "source": [
        "# Take input from the user\n",
        "string = input(\"Enter a string: \")\n",
        "\n",
        "# Reverse the string using a loop\n",
        "reversed_string = \"\"\n",
        "for i in range(len(string)-1, -1, -1):\n",
        "    reversed_string += string[i]\n",
        "\n",
        "# Print the reversed string\n",
        "print(\"Reversed string:\", reversed_string)\n",
        "output:\n",
        "Enter a string: jgfhf1324\n",
        "Reversed string: 4231fhfgj\n",
        "> "
      ]
    }
  ]
}