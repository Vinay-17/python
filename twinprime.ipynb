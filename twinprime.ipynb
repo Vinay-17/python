{
  "nbformat": 4,
  "nbformat_minor": 0,
  "metadata": {
    "colab": {
      "provenance": [],
      "authorship_tag": "ABX9TyO5VsoJpmGfJD7fWIUNF+7L",
      "include_colab_link": true
    },
    "kernelspec": {
      "name": "python3",
      "display_name": "Python 3"
    },
    "language_info": {
      "name": "python"
    }
  },
  "cells": [
    {
      "cell_type": "markdown",
      "metadata": {
        "id": "view-in-github",
        "colab_type": "text"
      },
      "source": [
        "<a href=\"https://colab.research.google.com/github/Vinay-17/python/blob/main/twinprime.ipynb\" target=\"_parent\"><img src=\"https://colab.research.google.com/assets/colab-badge.svg\" alt=\"Open In Colab\"/></a>"
      ]
    },
    {
      "cell_type": "code",
      "execution_count": null,
      "metadata": {
        "id": "QEBUMCvbB8uB"
      },
      "outputs": [],
      "source": [
        "def is_prime(n):\n",
        "    if n < 2:\n",
        "        return False\n",
        "    for i in range(2, int(n**0.5) + 1):\n",
        "        if n % i == 0:\n",
        "            return False\n",
        "    return True\n",
        "\n",
        "def twin_primes(n):\n",
        "    for i in range(3, n, 2):\n",
        "        if is_prime(i) and is_prime(i + 2):\n",
        "            print(i, \"and\", i+2)\n",
        "\n",
        "n = int(input(\"Enter a number: \"))\n",
        "twin_primes(n)\n",
        "output:\n",
        "Enter a number: 20\n",
        "3 and 5\n",
        "5 and 7\n",
        "11 and 13\n",
        "17 and 19"
      ]
    }
  ]
}