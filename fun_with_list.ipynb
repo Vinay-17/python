{
  "nbformat": 4,
  "nbformat_minor": 0,
  "metadata": {
    "colab": {
      "provenance": [],
      "authorship_tag": "ABX9TyPPR+yv/zcW0xxERx4gBF4r",
      "include_colab_link": true
    },
    "kernelspec": {
      "name": "python3",
      "display_name": "Python 3"
    },
    "language_info": {
      "name": "python"
    }
  },
  "cells": [
    {
      "cell_type": "markdown",
      "metadata": {
        "id": "view-in-github",
        "colab_type": "text"
      },
      "source": [
        "<a href=\"https://colab.research.google.com/github/Vinay-17/python/blob/main/fun_with_list.ipynb\" target=\"_parent\"><img src=\"https://colab.research.google.com/assets/colab-badge.svg\" alt=\"Open In Colab\"/></a>"
      ]
    },
    {
      "cell_type": "code",
      "execution_count": null,
      "metadata": {
        "id": "I5Ogc72JoNvp"
      },
      "outputs": [],
      "source": [
        "list1=[(2,5),(1,2),(4,4),(2,3),(2,1)]\n",
        "length=len(list1)\n",
        "for i in range(0,length):\n",
        "    for j in range(0,length-i-1):\n",
        "        if (list1[j][-1]>list1[j+1][-1]):\n",
        "            temp=list1[j]\n",
        "            list1[j]=list1[j+1]\n",
        "            list1[j+1]=temp\n",
        "print(list1)            \n",
        "output:\n",
        "[(2, 1), (1, 2), (2, 3), (4, 4), (2, 5)]"
      ]
    }
  ]
}