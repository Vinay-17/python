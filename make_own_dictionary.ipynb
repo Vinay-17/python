{
  "nbformat": 4,
  "nbformat_minor": 0,
  "metadata": {
    "colab": {
      "provenance": [],
      "authorship_tag": "ABX9TyMDbWw2IJghQ+OepgIXZAj8",
      "include_colab_link": true
    },
    "kernelspec": {
      "name": "python3",
      "display_name": "Python 3"
    },
    "language_info": {
      "name": "python"
    }
  },
  "cells": [
    {
      "cell_type": "markdown",
      "metadata": {
        "id": "view-in-github",
        "colab_type": "text"
      },
      "source": [
        "<a href=\"https://colab.research.google.com/github/Vinay-17/python/blob/main/make_own_dictionary.ipynb\" target=\"_parent\"><img src=\"https://colab.research.google.com/assets/colab-badge.svg\" alt=\"Open In Colab\"/></a>"
      ]
    },
    {
      "cell_type": "code",
      "execution_count": null,
      "metadata": {
        "id": "98JO7-_puGFl"
      },
      "outputs": [],
      "source": [
        "input=\"\"\n",
        "for i in range(ord('a'),ord('z')+1):\n",
        "    input+=chr(i)\n",
        "keys=[]\n",
        "values=[]\n",
        "for letter in input:\n",
        "    keys.append(letter)\n",
        "    for ascii in input:\n",
        "        ascii=ord(letter)\n",
        "        values.append(ascii)\n",
        "d=dict(zip(keys,values))\n",
        "print(d)\n",
        "        \n",
        "output:\n",
        "{'a': 97, 'b': 97, 'c': 97, 'd': 97, 'e': 97, 'f': 97, 'g': 97, 'h': 97, 'i': 97, 'j': 97, 'k': 97, 'l': 97, 'm': 97, 'n': 97, 'o': 97, 'p': 97, 'q': 97, 'r': 97, 's': 97, 't': 97, 'u': 97, 'v': 97, 'w': 97, 'x': 97, 'y': 97, 'z': 97}\n",
        "> "
      ]
    }
  ]
}